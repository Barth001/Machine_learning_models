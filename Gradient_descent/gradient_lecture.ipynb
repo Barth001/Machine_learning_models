{
 "cells": [
  {
   "cell_type": "code",
   "execution_count": 3,
   "metadata": {},
   "outputs": [],
   "source": [
    "import numpy as np"
   ]
  },
  {
   "cell_type": "code",
   "execution_count": 18,
   "metadata": {},
   "outputs": [],
   "source": [
    "def gradient_descent(x,y):\n",
    "    m_occur = b_occur = 0\n",
    "    iterations = 10\n",
    "    n = len(x)\n",
    "    learning_rate = 0.08\n",
    "    for i in range(iterations):\n",
    "        y_predicted = m_occur * x + b_occur\n",
    "        cost = (1/n) * sum([val**2for val in (y-y_predicted)])\n",
    "        md = -(2/n) * sum(x * (y - y_predicted))\n",
    "        bd = -(2/n) * sum(y - y_predicted)\n",
    "        m_occur = m_occur - learning_rate * md\n",
    "        b_occur = b_occur - learning_rate * bd\n",
    "        print(f\"m-occur {m_occur}, b-occur {b_occur}, cost {cost} iteration {i}\")"
   ]
  },
  {
   "cell_type": "code",
   "execution_count": null,
   "metadata": {},
   "outputs": [],
   "source": []
  },
  {
   "cell_type": "code",
   "execution_count": 5,
   "metadata": {},
   "outputs": [],
   "source": [
    "x = np.array([1,2,3,4,5])\n",
    "y = np.array([5,7,9,11,13])"
   ]
  },
  {
   "cell_type": "code",
   "execution_count": 19,
   "metadata": {
    "scrolled": true
   },
   "outputs": [
    {
     "name": "stdout",
     "output_type": "stream",
     "text": [
      "m-occur 4.96, b-occur 1.44, cost 89.0 iteration 0\n",
      "m-occur 0.4991999999999983, b-occur 0.26879999999999993, cost 71.10560000000002 iteration 1\n",
      "m-occur 4.451584000000002, b-occur 1.426176000000001, cost 56.8297702400001 iteration 2\n",
      "m-occur 0.892231679999997, b-occur 0.5012275199999995, cost 45.43965675929613 iteration 3\n",
      "m-occur 4.041314713600002, b-occur 1.432759910400001, cost 36.35088701894832 iteration 4\n",
      "m-occur 1.2008760606719973, b-occur 0.7036872622079998, cost 29.097483330142282 iteration 5\n",
      "m-occur 3.7095643080294423, b-occur 1.4546767911321612, cost 23.307872849944438 iteration 6\n",
      "m-occur 1.4424862661541864, b-occur 0.881337636696883, cost 18.685758762535738 iteration 7\n",
      "m-occur 3.4406683721083144, b-occur 1.4879302070713722, cost 14.994867596913156 iteration 8\n",
      "m-occur 1.6308855378034224, b-occur 1.0383405553279617, cost 12.046787238456794 iteration 9\n"
     ]
    }
   ],
   "source": [
    "gradient_descent(x,y)"
   ]
  },
  {
   "cell_type": "code",
   "execution_count": null,
   "metadata": {},
   "outputs": [],
   "source": []
  }
 ],
 "metadata": {
  "kernelspec": {
   "display_name": "Python 3",
   "language": "python",
   "name": "python3"
  },
  "language_info": {
   "codemirror_mode": {
    "name": "ipython",
    "version": 3
   },
   "file_extension": ".py",
   "mimetype": "text/x-python",
   "name": "python",
   "nbconvert_exporter": "python",
   "pygments_lexer": "ipython3",
   "version": "3.7.4"
  }
 },
 "nbformat": 4,
 "nbformat_minor": 2
}
